{
 "cells": [
  {
   "cell_type": "markdown",
   "metadata": {},
   "source": [
    "just a sandbox"
   ]
  },
  {
   "cell_type": "markdown",
   "metadata": {},
   "source": [
    "imports"
   ]
  },
  {
   "cell_type": "code",
   "execution_count": 1,
   "metadata": {},
   "outputs": [],
   "source": [
    "#import sys, requests, time, json\n",
    "from elasticsearch import Elasticsearch\n",
    "from elasticsearch_dsl import connections, Search, Document, Date, Text, Keyword\n",
    "import json"
   ]
  },
  {
   "cell_type": "markdown",
   "metadata": {},
   "source": [
    "connect"
   ]
  },
  {
   "cell_type": "code",
   "execution_count": 2,
   "metadata": {},
   "outputs": [
    {
     "name": "stdout",
     "output_type": "stream",
     "text": [
      "{'cluster_name': 'elk-basic_license', 'status': 'yellow', 'timed_out': False, 'number_of_nodes': 1, 'number_of_data_nodes': 1, 'active_primary_shards': 36, 'active_shards': 36, 'relocating_shards': 0, 'initializing_shards': 0, 'unassigned_shards': 48, 'delayed_unassigned_shards': 0, 'number_of_pending_tasks': 0, 'number_of_in_flight_fetch': 0, 'task_max_waiting_in_queue_millis': 0, 'active_shards_percent_as_number': 42.857142857142854}\n"
     ]
    }
   ],
   "source": [
    "es_conn1 = Elasticsearch([{'host': '10.0.2.15', 'port': 9200}])\n",
    "print(es_conn1.cluster.health())"
   ]
  },
  {
   "cell_type": "code",
   "execution_count": 37,
   "metadata": {},
   "outputs": [],
   "source": [
    "range_search = Search(using=es_conn1, index=\"messages\") \\\n",
    ".filter('range' ,  **{'@timestamp': {'gte': 'now-10m' , 'lt': 'now'}}) \\\n",
    ".query(\"match\", origin=\"kibana\")\n",
    "\n",
    "# .filter('range' ,  **{'@timestamp': {'gte': 'now-1h/h' , 'lt': 'now'}})"
   ]
  },
  {
   "cell_type": "code",
   "execution_count": 38,
   "metadata": {},
   "outputs": [
    {
     "name": "stdout",
     "output_type": "stream",
     "text": [
      "<Hit(messages/FP8KJnMB3BtdaRX6yvgC): {'@timestamp': '2020-07-06T21:31:47.000Z', 'msg': 'localhost...}>\n",
      "<Hit(messages/Ff8KJnMB3BtdaRX6yvgH): {'@timestamp': '2020-07-06T21:31:47.000Z', 'msg': 'localhost...}>\n",
      "<Hit(messages/Fv8KJnMB3BtdaRX6yvgM): {'@timestamp': '2020-07-06T21:31:47.000Z', 'msg': 'localhost...}>\n",
      "<Hit(messages/E_8KJnMB3BtdaRX6QPjD): {'@timestamp': '2020-07-06T21:31:12.000Z', 'msg': 'localhost...}>\n",
      "<Hit(messages/F_8LJnMB3BtdaRX6L_j8): {'@timestamp': '2020-07-06T21:32:13.000Z', 'msg': 'localhost...}>\n",
      "<Hit(messages/JP8OJnMB3BtdaRX6ivgn): {'@timestamp': '2020-07-06T21:35:52.000Z', 'msg': 'localhost...}>\n",
      "<Hit(messages/Jf8OJnMB3BtdaRX6ivgr): {'@timestamp': '2020-07-06T21:35:52.000Z', 'msg': 'localhost...}>\n",
      "<Hit(messages/Jv8OJnMB3BtdaRX6ivgr): {'@timestamp': '2020-07-06T21:35:52.000Z', 'msg': 'localhost...}>\n",
      "<Hit(messages/IP8NJnMB3BtdaRX6m_gE): {'@timestamp': '2020-07-06T21:34:51.000Z', 'msg': 'localhost...}>\n",
      "<Hit(messages/If8NJnMB3BtdaRX6m_gE): {'@timestamp': '2020-07-06T21:34:51.000Z', 'msg': 'localhost...}>\n"
     ]
    }
   ],
   "source": [
    "for hit in range_search:\n",
    "    print(hit)"
   ]
  },
  {
   "cell_type": "code",
   "execution_count": 39,
   "metadata": {},
   "outputs": [
    {
     "name": "stdout",
     "output_type": "stream",
     "text": [
      "<class 'elasticsearch_dsl.search.Search'>\n"
     ]
    }
   ],
   "source": [
    "print(type(range_search))\n",
    "#json.loads(simple_search)"
   ]
  },
  {
   "cell_type": "code",
   "execution_count": 40,
   "metadata": {},
   "outputs": [],
   "source": [
    "# help('elasticsearch_dsl.search.Search')"
   ]
  },
  {
   "cell_type": "code",
   "execution_count": 41,
   "metadata": {},
   "outputs": [
    {
     "name": "stdout",
     "output_type": "stream",
     "text": [
      "41\n"
     ]
    }
   ],
   "source": [
    "print(range_search.count())"
   ]
  },
  {
   "cell_type": "code",
   "execution_count": 31,
   "metadata": {},
   "outputs": [
    {
     "name": "stdout",
     "output_type": "stream",
     "text": [
      "name  : Star Destroyer\n",
      "Model : Imperial I-class Star Destroyer\n",
      "name  : Republic attack cruiser\n",
      "Model : Senator-class Star Destroyer\n",
      "name  : Executor\n",
      "Model : Executor-class star dreadnought\n",
      "name  : Calamari Cruiser\n",
      "Model : MC80 Liberty type Star Cruiser\n"
     ]
    }
   ],
   "source": [
    "for hit in simple_search:\n",
    "    print(\"name  : {}\".format(hit.name))\n",
    "    print(\"Model : {}\".format(hit.model))"
   ]
  },
  {
   "cell_type": "code",
   "execution_count": null,
   "metadata": {},
   "outputs": [],
   "source": []
  }
 ],
 "metadata": {
  "kernelspec": {
   "display_name": "Python 3",
   "language": "python",
   "name": "python3"
  },
  "language_info": {
   "codemirror_mode": {
    "name": "ipython",
    "version": 3
   },
   "file_extension": ".py",
   "mimetype": "text/x-python",
   "name": "python",
   "nbconvert_exporter": "python",
   "pygments_lexer": "ipython3",
   "version": "3.6.8"
  }
 },
 "nbformat": 4,
 "nbformat_minor": 4
}
