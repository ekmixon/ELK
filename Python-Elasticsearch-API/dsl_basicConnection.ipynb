{
 "cells": [
  {
   "cell_type": "markdown",
   "metadata": {},
   "source": [
    "Basic Connection setup  \n",
    "info - https://elasticsearch-dsl.readthedocs.io/en/latest/configuration.html"
   ]
  },
  {
   "cell_type": "markdown",
   "metadata": {},
   "source": [
    "Import the module"
   ]
  },
  {
   "cell_type": "code",
   "execution_count": 13,
   "metadata": {},
   "outputs": [],
   "source": [
    "from elasticsearch_dsl import connections, Search"
   ]
  },
  {
   "cell_type": "markdown",
   "metadata": {},
   "source": [
    "Connect to an Elasticsearch server"
   ]
  },
  {
   "cell_type": "code",
   "execution_count": 14,
   "metadata": {},
   "outputs": [
    {
     "data": {
      "text/plain": [
       "<Elasticsearch([{'host': '10.0.2.15'}])>"
      ]
     },
     "execution_count": 14,
     "metadata": {},
     "output_type": "execute_result"
    }
   ],
   "source": [
    "connections.create_connection(hosts=['10.0.2.15'], timeout=20)"
   ]
  },
  {
   "cell_type": "markdown",
   "metadata": {},
   "source": [
    "connect with an alias  \n",
    "the default value for alias is 'default'  \n",
    "this will create an alias named 'alias_1'"
   ]
  },
  {
   "cell_type": "code",
   "execution_count": 15,
   "metadata": {},
   "outputs": [
    {
     "data": {
      "text/plain": [
       "<Elasticsearch([{'host': '10.0.2.15'}])>"
      ]
     },
     "execution_count": 15,
     "metadata": {},
     "output_type": "execute_result"
    }
   ],
   "source": [
    "connections.create_connection(alias='alias_1', hosts=['10.0.2.15'], timeout=60)"
   ]
  },
  {
   "cell_type": "markdown",
   "metadata": {},
   "source": [
    "connect to multiple clusters  \n",
    "“Sniffing” is when the client tests the cluster state and searches for nodes to put into a list.  Sniffing is disabled by default, but is often useful when you are having cluster or connection issues."
   ]
  },
  {
   "cell_type": "code",
   "execution_count": 16,
   "metadata": {},
   "outputs": [],
   "source": [
    "connections.configure(\n",
    "    alias_2={'hosts': '10.0.2.15'},\n",
    "    alias_3={\n",
    "        'hosts': ['10.0.2.15:9200'],\n",
    "        'sniff_on_start': True\n",
    "    }\n",
    ")"
   ]
  },
  {
   "cell_type": "markdown",
   "metadata": {},
   "source": [
    "This is an example SSL but since no certs on VM just doing a listing  \n",
    "<code>\n",
    "    elastic = Elasticsearch(\n",
    "      ['localhost:7500', 'other_host:9200'],\n",
    "      # enable SSL\n",
    "      use_ssl=True,\n",
    "      # verify SSL certificates to authenticare\n",
    "      verify_certs=True,\n",
    "      # path to the certificates\n",
    "      ca_certs='/path/to/CA_certs'\n",
    "    )\n",
    "</code>"
   ]
  },
  {
   "cell_type": "code",
   "execution_count": 17,
   "metadata": {},
   "outputs": [],
   "source": [
    "s = Search(using='alias_2')"
   ]
  },
  {
   "cell_type": "code",
   "execution_count": null,
   "metadata": {},
   "outputs": [],
   "source": []
  }
 ],
 "metadata": {
  "kernelspec": {
   "display_name": "Python 3",
   "language": "python",
   "name": "python3"
  },
  "language_info": {
   "codemirror_mode": {
    "name": "ipython",
    "version": 3
   },
   "file_extension": ".py",
   "mimetype": "text/x-python",
   "name": "python",
   "nbconvert_exporter": "python",
   "pygments_lexer": "ipython3",
   "version": "3.6.8"
  }
 },
 "nbformat": 4,
 "nbformat_minor": 4
}
