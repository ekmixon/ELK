{
 "cells": [
  {
   "cell_type": "markdown",
   "metadata": {},
   "source": [
    "just a sandbox"
   ]
  },
  {
   "cell_type": "markdown",
   "metadata": {},
   "source": [
    "imports"
   ]
  },
  {
   "cell_type": "code",
   "execution_count": 6,
   "metadata": {},
   "outputs": [],
   "source": [
    "#import sys, requests, time, json\n",
    "from elasticsearch import Elasticsearch\n",
    "from elasticsearch_dsl import connections, Search, Document, Date, Text, Keyword\n",
    "import json"
   ]
  },
  {
   "cell_type": "markdown",
   "metadata": {},
   "source": [
    "connect"
   ]
  },
  {
   "cell_type": "code",
   "execution_count": 7,
   "metadata": {},
   "outputs": [
    {
     "name": "stdout",
     "output_type": "stream",
     "text": [
      "{'cluster_name': 'elk-basic_license', 'status': 'yellow', 'timed_out': False, 'number_of_nodes': 1, 'number_of_data_nodes': 1, 'active_primary_shards': 34, 'active_shards': 34, 'relocating_shards': 0, 'initializing_shards': 0, 'unassigned_shards': 46, 'delayed_unassigned_shards': 0, 'number_of_pending_tasks': 0, 'number_of_in_flight_fetch': 0, 'task_max_waiting_in_queue_millis': 0, 'active_shards_percent_as_number': 42.5}\n"
     ]
    }
   ],
   "source": [
    "es_conn1 = Elasticsearch([{'host': '10.0.2.15', 'port': 9200}])\n",
    "print(es_conn1.cluster.health())"
   ]
  },
  {
   "cell_type": "code",
   "execution_count": 8,
   "metadata": {},
   "outputs": [],
   "source": [
    "simple_search = Search(using=es_conn1, index=\"sw_starships\").query(\"match\", starship_class=\"Star Destroyer\")"
   ]
  },
  {
   "cell_type": "code",
   "execution_count": 12,
   "metadata": {},
   "outputs": [
    {
     "name": "stdout",
     "output_type": "stream",
     "text": [
      "<Hit(sw_starships/3): {'name': 'Star Destroyer', 'model': 'Imperial I-class Star D...}>\n",
      "<Hit(sw_starships/63): {'name': 'Republic attack cruiser', 'model': 'Senator-class ...}>\n",
      "<Hit(sw_starships/15): {'name': 'Executor', 'model': 'Executor-class star dreadnoug...}>\n",
      "<Hit(sw_starships/27): {'name': 'Calamari Cruiser', 'model': 'MC80 Liberty type Sta...}>\n"
     ]
    }
   ],
   "source": [
    "for hit in simple_search:\n",
    "    print(hit)"
   ]
  },
  {
   "cell_type": "code",
   "execution_count": 14,
   "metadata": {},
   "outputs": [
    {
     "name": "stdout",
     "output_type": "stream",
     "text": [
      "<class 'elasticsearch_dsl.search.Search'>\n"
     ]
    }
   ],
   "source": [
    "print(type(simple_search))\n",
    "#json.loads(simple_search)"
   ]
  },
  {
   "cell_type": "code",
   "execution_count": 16,
   "metadata": {},
   "outputs": [
    {
     "name": "stdout",
     "output_type": "stream",
     "text": [
      "Help on class Search in elasticsearch_dsl.search:\n",
      "\n",
      "elasticsearch_dsl.search.Search = class Search(Request)\n",
      " |  Method resolution order:\n",
      " |      Search\n",
      " |      Request\n",
      " |      builtins.object\n",
      " |  \n",
      " |  Methods defined here:\n",
      " |  \n",
      " |  __getitem__(self, n)\n",
      " |      Support slicing the `Search` instance for pagination.\n",
      " |      \n",
      " |      Slicing equates to the from/size parameters. E.g.::\n",
      " |      \n",
      " |          s = Search().query(...)[0:25]\n",
      " |      \n",
      " |      is equivalent to::\n",
      " |      \n",
      " |          s = Search().query(...).extra(from_=0, size=25)\n",
      " |  \n",
      " |  __init__(self, **kwargs)\n",
      " |      Search request to elasticsearch.\n",
      " |      \n",
      " |      :arg using: `Elasticsearch` instance to use\n",
      " |      :arg index: limit the search to index\n",
      " |      :arg doc_type: only query this type.\n",
      " |      \n",
      " |      All the parameters supplied (or omitted) at creation type can be later\n",
      " |      overridden by methods (`using`, `index` and `doc_type` respectively).\n",
      " |  \n",
      " |  __iter__(self)\n",
      " |      Iterate over the hits.\n",
      " |  \n",
      " |  count(self)\n",
      " |      Return the number of hits matching the query and filters. Note that\n",
      " |      only the actual number is returned.\n",
      " |  \n",
      " |  delete(self)\n",
      " |      delete() executes the query by delegating to delete_by_query()\n",
      " |  \n",
      " |  exclude(self, *args, **kwargs)\n",
      " |  \n",
      " |  execute(self, ignore_cache=False)\n",
      " |      Execute the search and return an instance of ``Response`` wrapping all\n",
      " |      the data.\n",
      " |      \n",
      " |      :arg ignore_cache: if set to ``True``, consecutive calls will hit\n",
      " |          ES, while cached result will be ignored. Defaults to `False`\n",
      " |  \n",
      " |  filter(self, *args, **kwargs)\n",
      " |  \n",
      " |  highlight(self, *fields, **kwargs)\n",
      " |      Request highlighting of some fields. All keyword arguments passed in will be\n",
      " |      used as parameters for all the fields in the ``fields`` parameter. Example::\n",
      " |      \n",
      " |          Search().highlight('title', 'body', fragment_size=50)\n",
      " |      \n",
      " |      will produce the equivalent of::\n",
      " |      \n",
      " |          {\n",
      " |              \"highlight\": {\n",
      " |                  \"fields\": {\n",
      " |                      \"body\": {\"fragment_size\": 50},\n",
      " |                      \"title\": {\"fragment_size\": 50}\n",
      " |                  }\n",
      " |              }\n",
      " |          }\n",
      " |      \n",
      " |      If you want to have different options for different fields you can call ``highlight`` twice::\n",
      " |      \n",
      " |          Search().highlight('title', fragment_size=50).highlight('body', fragment_size=100)\n",
      " |      \n",
      " |      which will produce::\n",
      " |      \n",
      " |          {\n",
      " |              \"highlight\": {\n",
      " |                  \"fields\": {\n",
      " |                      \"body\": {\"fragment_size\": 100},\n",
      " |                      \"title\": {\"fragment_size\": 50}\n",
      " |                  }\n",
      " |              }\n",
      " |          }\n",
      " |  \n",
      " |  highlight_options(self, **kwargs)\n",
      " |      Update the global highlighting options used for this request. For\n",
      " |      example::\n",
      " |      \n",
      " |          s = Search()\n",
      " |          s = s.highlight_options(order='score')\n",
      " |  \n",
      " |  response_class(self, cls)\n",
      " |      Override the default wrapper used for the response.\n",
      " |  \n",
      " |  scan(self)\n",
      " |      Turn the search into a scan search and return a generator that will\n",
      " |      iterate over all the documents matching the query.\n",
      " |      \n",
      " |      Use ``params`` method to specify any additional arguments you with to\n",
      " |      pass to the underlying ``scan`` helper from ``elasticsearch-py`` -\n",
      " |      https://elasticsearch-py.readthedocs.io/en/master/helpers.html#elasticsearch.helpers.scan\n",
      " |  \n",
      " |  script_fields(self, **kwargs)\n",
      " |      Define script fields to be calculated on hits. See\n",
      " |      https://www.elastic.co/guide/en/elasticsearch/reference/current/search-request-script-fields.html\n",
      " |      for more details.\n",
      " |      \n",
      " |      Example::\n",
      " |      \n",
      " |          s = Search()\n",
      " |          s = s.script_fields(times_two=\"doc['field'].value * 2\")\n",
      " |          s = s.script_fields(\n",
      " |              times_three={\n",
      " |                  'script': {\n",
      " |                      'inline': \"doc['field'].value * params.n\",\n",
      " |                      'params': {'n': 3}\n",
      " |                  }\n",
      " |              }\n",
      " |          )\n",
      " |  \n",
      " |  sort(self, *keys)\n",
      " |      Add sorting information to the search request. If called without\n",
      " |      arguments it will remove all sort requirements. Otherwise it will\n",
      " |      replace them. Acceptable arguments are::\n",
      " |      \n",
      " |          'some.field'\n",
      " |          '-some.other.field'\n",
      " |          {'different.field': {'any': 'dict'}}\n",
      " |      \n",
      " |      so for example::\n",
      " |      \n",
      " |          s = Search().sort(\n",
      " |              'category',\n",
      " |              '-title',\n",
      " |              {\"price\" : {\"order\" : \"asc\", \"mode\" : \"avg\"}}\n",
      " |          )\n",
      " |      \n",
      " |      will sort by ``category``, ``title`` (in descending order) and\n",
      " |      ``price`` in ascending order using the ``avg`` mode.\n",
      " |      \n",
      " |      The API returns a copy of the Search object and can thus be chained.\n",
      " |  \n",
      " |  source(self, fields=None, **kwargs)\n",
      " |      Selectively control how the _source field is returned.\n",
      " |      \n",
      " |      :arg fields: wildcard string, array of wildcards, or dictionary of includes and excludes\n",
      " |      \n",
      " |      If ``fields`` is None, the entire document will be returned for\n",
      " |      each hit.  If fields is a dictionary with keys of 'includes' and/or\n",
      " |      'excludes' the fields will be either included or excluded appropriately.\n",
      " |      \n",
      " |      Calling this multiple times with the same named parameter will override the\n",
      " |      previous values with the new ones.\n",
      " |      \n",
      " |      Example::\n",
      " |      \n",
      " |          s = Search()\n",
      " |          s = s.source(includes=['obj1.*'], excludes=[\"*.description\"])\n",
      " |      \n",
      " |          s = Search()\n",
      " |          s = s.source(includes=['obj1.*']).source(excludes=[\"*.description\"])\n",
      " |  \n",
      " |  suggest(self, name, text, **kwargs)\n",
      " |      Add a suggestions request to the search.\n",
      " |      \n",
      " |      :arg name: name of the suggestion\n",
      " |      :arg text: text to suggest on\n",
      " |      \n",
      " |      All keyword arguments will be added to the suggestions body. For example::\n",
      " |      \n",
      " |          s = Search()\n",
      " |          s = s.suggest('suggestion-1', 'Elasticsearch', term={'field': 'body'})\n",
      " |  \n",
      " |  to_dict(self, count=False, **kwargs)\n",
      " |      Serialize the search into the dictionary that will be sent over as the\n",
      " |      request's body.\n",
      " |      \n",
      " |      :arg count: a flag to specify if we are interested in a body for count -\n",
      " |          no aggregations, no pagination bounds etc.\n",
      " |      \n",
      " |      All additional keyword arguments will be included into the dictionary.\n",
      " |  \n",
      " |  update_from_dict(self, d)\n",
      " |      Apply options from a serialized body to the current instance. Modifies\n",
      " |      the object in-place. Used mostly by ``from_dict``.\n",
      " |  \n",
      " |  ----------------------------------------------------------------------\n",
      " |  Class methods defined here:\n",
      " |  \n",
      " |  from_dict(d) from builtins.type\n",
      " |      Construct a new `Search` instance from a raw dict containing the search\n",
      " |      body. Useful when migrating from raw dictionaries.\n",
      " |      \n",
      " |      Example::\n",
      " |      \n",
      " |          s = Search.from_dict({\n",
      " |              \"query\": {\n",
      " |                  \"bool\": {\n",
      " |                      \"must\": [...]\n",
      " |                  }\n",
      " |              },\n",
      " |              \"aggs\": {...}\n",
      " |          })\n",
      " |          s = s.filter('term', published=True)\n",
      " |  \n",
      " |  ----------------------------------------------------------------------\n",
      " |  Data descriptors defined here:\n",
      " |  \n",
      " |  post_filter\n",
      " |      Simple descriptor to enable setting of queries and filters as:\n",
      " |      \n",
      " |          s = Search()\n",
      " |          s.query = Q(...)\n",
      " |  \n",
      " |  query\n",
      " |      Simple descriptor to enable setting of queries and filters as:\n",
      " |      \n",
      " |          s = Search()\n",
      " |          s.query = Q(...)\n",
      " |  \n",
      " |  ----------------------------------------------------------------------\n",
      " |  Methods inherited from Request:\n",
      " |  \n",
      " |  __copy__(self)\n",
      " |  \n",
      " |  __eq__(self, other)\n",
      " |      Return self==value.\n",
      " |  \n",
      " |  doc_type(self, *doc_type, **kwargs)\n",
      " |      Set the type to search through. You can supply a single value or\n",
      " |      multiple. Values can be strings or subclasses of ``Document``.\n",
      " |      \n",
      " |      You can also pass in any keyword arguments, mapping a doc_type to a\n",
      " |      callback that should be used instead of the Hit class.\n",
      " |      \n",
      " |      If no doc_type is supplied any information stored on the instance will\n",
      " |      be erased.\n",
      " |      \n",
      " |      Example:\n",
      " |      \n",
      " |          s = Search().doc_type('product', 'store', User, custom=my_callback)\n",
      " |  \n",
      " |  extra(self, **kwargs)\n",
      " |      Add extra keys to the request body. Mostly here for backwards\n",
      " |      compatibility.\n",
      " |  \n",
      " |  index(self, *index)\n",
      " |      Set the index for the search. If called empty it will remove all information.\n",
      " |      \n",
      " |      Example:\n",
      " |      \n",
      " |          s = Search()\n",
      " |          s = s.index('twitter-2015.01.01', 'twitter-2015.01.02')\n",
      " |          s = s.index(['twitter-2015.01.01', 'twitter-2015.01.02'])\n",
      " |  \n",
      " |  params(self, **kwargs)\n",
      " |      Specify query params to be used when executing the search. All the\n",
      " |      keyword arguments will override the current values. See\n",
      " |      https://elasticsearch-py.readthedocs.io/en/master/api.html#elasticsearch.Elasticsearch.search\n",
      " |      for all available parameters.\n",
      " |      \n",
      " |      Example::\n",
      " |      \n",
      " |          s = Search()\n",
      " |          s = s.params(routing='user-1', preference='local')\n",
      " |  \n",
      " |  using(self, client)\n",
      " |      Associate the search request with an elasticsearch client. A fresh copy\n",
      " |      will be returned with current instance remaining unchanged.\n",
      " |      \n",
      " |      :arg client: an instance of ``elasticsearch.Elasticsearch`` to use or\n",
      " |          an alias to look up in ``elasticsearch_dsl.connections``\n",
      " |  \n",
      " |  ----------------------------------------------------------------------\n",
      " |  Data descriptors inherited from Request:\n",
      " |  \n",
      " |  __dict__\n",
      " |      dictionary for instance variables (if defined)\n",
      " |  \n",
      " |  __weakref__\n",
      " |      list of weak references to the object (if defined)\n",
      " |  \n",
      " |  ----------------------------------------------------------------------\n",
      " |  Data and other attributes inherited from Request:\n",
      " |  \n",
      " |  __hash__ = None\n",
      "\n"
     ]
    }
   ],
   "source": [
    "help('elasticsearch_dsl.search.Search')"
   ]
  },
  {
   "cell_type": "code",
   "execution_count": 17,
   "metadata": {},
   "outputs": [
    {
     "name": "stdout",
     "output_type": "stream",
     "text": [
      "4\n"
     ]
    }
   ],
   "source": [
    "print(simple_search.count())"
   ]
  },
  {
   "cell_type": "code",
   "execution_count": 23,
   "metadata": {},
   "outputs": [
    {
     "name": "stdout",
     "output_type": "stream",
     "text": [
      "name  : Star Destroyer\n",
      "Model : Imperial I-class Star Destroyer\n",
      "name  : Republic attack cruiser\n",
      "Model : Senator-class Star Destroyer\n",
      "name  : Executor\n",
      "Model : Executor-class star dreadnought\n",
      "name  : Calamari Cruiser\n",
      "Model : MC80 Liberty type Star Cruiser\n"
     ]
    }
   ],
   "source": [
    "for hit in simple_search:\n",
    "    print(\"name  : {}\".format(hit.name))\n",
    "    print(\"Model : {}\".format(hit.model))"
   ]
  },
  {
   "cell_type": "code",
   "execution_count": null,
   "metadata": {},
   "outputs": [],
   "source": []
  }
 ],
 "metadata": {
  "kernelspec": {
   "display_name": "Python 3",
   "language": "python",
   "name": "python3"
  },
  "language_info": {
   "codemirror_mode": {
    "name": "ipython",
    "version": 3
   },
   "file_extension": ".py",
   "mimetype": "text/x-python",
   "name": "python",
   "nbconvert_exporter": "python",
   "pygments_lexer": "ipython3",
   "version": "3.6.8"
  }
 },
 "nbformat": 4,
 "nbformat_minor": 4
}
