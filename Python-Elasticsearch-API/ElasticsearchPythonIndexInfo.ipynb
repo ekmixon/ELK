{
 "cells": [
  {
   "cell_type": "markdown",
   "metadata": {},
   "source": [
    "# Elasticsearch Low-Level Python API\n",
    "## Index Information\n",
    "### Assumes Star Wars indices are loaded"
   ]
  },
  {
   "cell_type": "code",
   "execution_count": 7,
   "metadata": {},
   "outputs": [],
   "source": [
    "# import\n",
    "import json\n",
    "from elasticsearch import Elasticsearch"
   ]
  },
  {
   "cell_type": "markdown",
   "metadata": {},
   "source": [
    "## Connect to Cluster"
   ]
  },
  {
   "cell_type": "code",
   "execution_count": 2,
   "metadata": {},
   "outputs": [
    {
     "name": "stdout",
     "output_type": "stream",
     "text": [
      "{'cluster_name': 'parrot_elk', 'status': 'yellow', 'timed_out': False, 'number_of_nodes': 1, 'number_of_data_nodes': 1, 'active_primary_shards': 9, 'active_shards': 9, 'relocating_shards': 0, 'initializing_shards': 0, 'unassigned_shards': 8, 'delayed_unassigned_shards': 0, 'number_of_pending_tasks': 0, 'number_of_in_flight_fetch': 0, 'task_max_waiting_in_queue_millis': 0, 'active_shards_percent_as_number': 52.94117647058824}\n"
     ]
    }
   ],
   "source": [
    "es_conn1 = Elasticsearch([{'host': '10.0.2.15', 'port': 9200}])\n",
    "# print the health just because...\n",
    "print(es_conn1.cluster.health())"
   ]
  },
  {
   "cell_type": "markdown",
   "metadata": {},
   "source": [
    "### Function Definition"
   ]
  },
  {
   "cell_type": "code",
   "execution_count": 35,
   "metadata": {},
   "outputs": [],
   "source": [
    "# useful json print function\n",
    "# json print function\n",
    "def json_print(json_obj):\n",
    "    # create a formatted string of the Python JSON object\n",
    "    text = json.dumps(json_obj, sort_keys=True, indent=3)\n",
    "    print(text)"
   ]
  },
  {
   "cell_type": "code",
   "execution_count": 36,
   "metadata": {},
   "outputs": [],
   "source": [
    "# function to return the storage size of an index\n",
    "# this needs work with passing the args\n",
    "def get_index_store_size(es_connection, index, byte_measurement):\n",
    "    \"\"\"\n",
    "    returns the storage size of an index\n",
    "    \"\"\"\n",
    "    #mid1 = '.cat.indices(\\''\n",
    "    #temp = str(es_connection) + mid1\n",
    "    #print(temp)\n",
    "    bytes_index = 'bytes=' + '\\'' + byte_measurement + '\\''\n",
    "    #bytes_index = '\\'' + byte_measurement + '\\''\n",
    "    #bytes_index = '=' + '\\'' + byte_measurement + '\\''\n",
    "    #print(bytes_index)\n",
    "    # works as expected\n",
    "    #store_size = es_connection.cat.indices('sw_people', bytes='k', h='store.size')\n",
    "    store_size = es_connection.cat.indices(index, bytes='k', h='store.size')\n",
    "    # seems to ignore the bytes arg\n",
    "    #store_size = es_connection.cat.indices(index, bytes='byte_measurement', h='store.size')\n",
    "    #store_size = es_connection.cat.indices(index, bytes=bytes_index, h='store.size')\n",
    "    \n",
    "    #store_size = es_connection.cat.indices(index, bytes='( %s)' % byte_measurement , h='store.size')\n",
    "    # err - TypeError: indices() got multiple values for argument 'params'\n",
    "    #store_size = es_connection.cat.indices(index, bytes_index, h='store.size')\n",
    "    # parsing error\n",
    "    #store_size = es_connection.cat.indices(index, bytes=\\'byte_measurement\\', h='store.size')\n",
    "    #err TypeError: indices() got multiple values for argument 'params'\n",
    "    #store_size = es_connection.cat.indices(index, byte_measurement, h='store.size')\n",
    "    #store_size = es_connection.cat.indices(index, str(byte_measurement), h='store.size')\n",
    "    # store_size = es_connection.cat.indices(index, str(bytes_index), h='store.size')\n",
    "    \n",
    "    # err = TypeError: unsupported operand type(s) for +: 'type' and 'str'\n",
    "    #store_size = es_connection.cat.indices(index, bytes+bytes_index, h='store.size')\n",
    "    \n",
    "    # it's the '=' sign\n",
    "    #store_size = es_connection.cat.indices(bytes=byte_measurement, h='store.size')\n",
    "    return(store_size)\n",
    "\n"
   ]
  },
  {
   "cell_type": "markdown",
   "metadata": {},
   "source": [
    "## Index Information"
   ]
  },
  {
   "cell_type": "code",
   "execution_count": 28,
   "metadata": {},
   "outputs": [
    {
     "name": "stdout",
     "output_type": "stream",
     "text": [
      "yellow open test-index   _j9S4I3zS9q8vFOvL0wZSQ 1 1  0 0    284b    284b\n",
      "yellow open sw_people    0FSqKsdMQJ-m9sjP6nPiCQ 1 1 87 0  61.3kb  61.3kb\n",
      "yellow open sw_vehicles  UTWNdxikQMuEcoq3Bofx2A 1 1 39 0    61kb    61kb\n",
      "yellow open sw_films     142h1U3rQK61nqx18JYMcA 1 1  7 0 101.2kb 101.2kb\n",
      "yellow open test_index1  0E4bdk9QTSSRVGPI8JXVIQ 1 1  2 1  17.1kb  17.1kb\n",
      "yellow open sw_species   WZdBoaYvQOeJyDd0mg6P4A 1 1 37 0  45.8kb  45.8kb\n",
      "yellow open sw_starships 3sFHgxqRR5mWpPwkAfqgtw 1 1 37 0  69.4kb  69.4kb\n",
      "yellow open sw_planets   oNe7CZCfRkmZf_9b-8PgwA 1 1 61 0    63kb    63kb\n",
      "green  open .kibana_1    QXZbXyTwR8KOKyBOryzy7Q 1 0 11 0  21.6kb  21.6kb\n",
      "\n"
     ]
    }
   ],
   "source": [
    "# get all the indices\n",
    "index_list = es_conn1.cat.indices()\n",
    "print(index_list)"
   ]
  },
  {
   "cell_type": "code",
   "execution_count": 12,
   "metadata": {},
   "outputs": [
    {
     "name": "stdout",
     "output_type": "stream",
     "text": [
      "\"yellow open sw_people 0FSqKsdMQJ-m9sjP6nPiCQ 1 1 87 0 61.3kb 61.3kb\\n\"\n"
     ]
    }
   ],
   "source": [
    "# get specific index info\n",
    "index_info = es_conn1.cat.indices('sw_people')\n",
    "json_print(index_info)"
   ]
  },
  {
   "cell_type": "code",
   "execution_count": 20,
   "metadata": {},
   "outputs": [
    {
     "name": "stdout",
     "output_type": "stream",
     "text": [
      "1578181297 23:41:37 87\n",
      "\n"
     ]
    }
   ],
   "source": [
    "# get the doc count\n",
    "index_doc_count = es_conn1.cat.count(index='sw_people')\n",
    "print(index_doc_count)"
   ]
  },
  {
   "cell_type": "code",
   "execution_count": 23,
   "metadata": {},
   "outputs": [
    {
     "name": "stdout",
     "output_type": "stream",
     "text": [
      "61\n",
      "\n"
     ]
    }
   ],
   "source": [
    "# get size of an index\n",
    "# bytes arg is k -> KB, m -> MB, g -> GB, t ->tb\n",
    "index_size = es_conn1.cat.indices('sw_people', bytes='k', h='store.size')\n",
    "print(index_size)"
   ]
  },
  {
   "cell_type": "code",
   "execution_count": 5,
   "metadata": {},
   "outputs": [
    {
     "name": "stdout",
     "output_type": "stream",
     "text": [
      "size in kb:  61\n",
      "\n",
      "1578180883 23:34:43 87\n",
      "\n"
     ]
    }
   ],
   "source": [
    "es_client = es_conn1.cat.indices('sw_people', bytes='k', h='store.size')\n",
    "es_count = es_conn1.cat.count('sw_people')\n",
    "# es_conn2.cat.indices()\n",
    "print('size in kb: ', es_client)\n",
    "print(es_count)"
   ]
  },
  {
   "cell_type": "code",
   "execution_count": 33,
   "metadata": {},
   "outputs": [
    {
     "name": "stdout",
     "output_type": "stream",
     "text": [
      "base document count:  1578181863 23:51:03 281\n",
      "\n",
      "tuned document count:  281\n",
      "\n",
      "sw_people index document count:  87\n",
      "\n"
     ]
    }
   ],
   "source": [
    "# tuned document count\n",
    "print('base document count: ', es_conn1.cat.count())\n",
    "print('tuned document count: ', es_conn1.cat.count(h='count'))\n",
    "print('sw_people index document count: ', es_conn1.cat.count(index='sw_people', h='count'))"
   ]
  },
  {
   "cell_type": "code",
   "execution_count": 38,
   "metadata": {},
   "outputs": [
    {
     "name": "stdout",
     "output_type": "stream",
     "text": [
      "average size per doc\"  1.4262295081967213\n"
     ]
    }
   ],
   "source": [
    "# calculate the average size of each document\n",
    "# need to validate size format\n",
    "# i.e. KB/MB/GB/TB\n",
    "\n",
    "# get the size\n",
    "index = 'sw_people'\n",
    "bytes_in = 'k'\n",
    "conn = es_conn1\n",
    "size = get_index_store_size(conn, index, bytes_in)\n",
    "\n",
    "# get the doc count\n",
    "doc_count = es_conn1.cat.count(index='sw_people', h='count')\n",
    "\n",
    "# calculate the average document size\n",
    "avg_size = int(doc_count) / int(size)\n",
    "print('average size per doc\" ', avg_size)"
   ]
  },
  {
   "cell_type": "code",
   "execution_count": null,
   "metadata": {},
   "outputs": [],
   "source": []
  }
 ],
 "metadata": {
  "kernelspec": {
   "display_name": "Python 3",
   "language": "python",
   "name": "python3"
  },
  "language_info": {
   "codemirror_mode": {
    "name": "ipython",
    "version": 3
   },
   "file_extension": ".py",
   "mimetype": "text/x-python",
   "name": "python",
   "nbconvert_exporter": "python",
   "pygments_lexer": "ipython3",
   "version": "3.7.4"
  }
 },
 "nbformat": 4,
 "nbformat_minor": 2
}
