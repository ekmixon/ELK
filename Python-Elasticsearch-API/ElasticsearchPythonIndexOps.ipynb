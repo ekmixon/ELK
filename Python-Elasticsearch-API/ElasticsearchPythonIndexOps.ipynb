{
 "cells": [
  {
   "cell_type": "markdown",
   "metadata": {},
   "source": [
    "# Elasticsearch Low-Level Python API\n",
    "## Index operations\n",
    "### Assumes Star Wars indices are loaded"
   ]
  },
  {
   "cell_type": "code",
   "execution_count": 3,
   "metadata": {},
   "outputs": [],
   "source": [
    "#import sys, requests, time, json\n",
    "from elasticsearch import Elasticsearch"
   ]
  },
  {
   "cell_type": "markdown",
   "metadata": {},
   "source": [
    "## Connect to Cluster"
   ]
  },
  {
   "cell_type": "code",
   "execution_count": 5,
   "metadata": {},
   "outputs": [
    {
     "name": "stdout",
     "output_type": "stream",
     "text": [
      "{'cluster_name': 'parrot_elk', 'status': 'yellow', 'timed_out': False, 'number_of_nodes': 1, 'number_of_data_nodes': 1, 'active_primary_shards': 9, 'active_shards': 9, 'relocating_shards': 0, 'initializing_shards': 0, 'unassigned_shards': 8, 'delayed_unassigned_shards': 0, 'number_of_pending_tasks': 0, 'number_of_in_flight_fetch': 0, 'task_max_waiting_in_queue_millis': 0, 'active_shards_percent_as_number': 52.94117647058824}\n"
     ]
    }
   ],
   "source": [
    "es_conn1 = Elasticsearch([{'host': '10.0.2.15', 'port': 9200}])\n",
    "print(es_conn1.cluster.health())"
   ]
  },
  {
   "cell_type": "markdown",
   "metadata": {},
   "source": [
    "## Index Operations"
   ]
  },
  {
   "cell_type": "code",
   "execution_count": 6,
   "metadata": {},
   "outputs": [
    {
     "data": {
      "text/plain": [
       "{'acknowledged': True,\n",
       " 'shards_acknowledged': True,\n",
       " 'indices': {'sw_people': {'closed': True}}}"
      ]
     },
     "execution_count": 6,
     "metadata": {},
     "output_type": "execute_result"
    }
   ],
   "source": [
    "# close an index, useful to just stop R/W ops\n",
    "# but does not delete it\n",
    "# close the sw_people\n",
    "es_conn1.indices.close('sw_people')"
   ]
  },
  {
   "cell_type": "code",
   "execution_count": 7,
   "metadata": {},
   "outputs": [
    {
     "data": {
      "text/plain": [
       "{'acknowledged': True, 'shards_acknowledged': True}"
      ]
     },
     "execution_count": 7,
     "metadata": {},
     "output_type": "execute_result"
    }
   ],
   "source": [
    "# open the closed index sw_people\n",
    "es_conn1.indices.open('sw_people')"
   ]
  },
  {
   "cell_type": "code",
   "execution_count": 8,
   "metadata": {},
   "outputs": [
    {
     "data": {
      "text/plain": [
       "{'acknowledged': True, 'shards_acknowledged': True, 'index': 'delete_me'}"
      ]
     },
     "execution_count": 8,
     "metadata": {},
     "output_type": "execute_result"
    }
   ],
   "source": [
    "# create an index named delete_me\n",
    "es_conn1.indices.create('delete_me')"
   ]
  },
  {
   "cell_type": "code",
   "execution_count": 9,
   "metadata": {},
   "outputs": [
    {
     "name": "stdout",
     "output_type": "stream",
     "text": [
      "index exists:  True\n"
     ]
    }
   ],
   "source": [
    "# check to make sure it exists \n",
    "# it should\n",
    "print('index exists: ', es_conn1.indices.exists('delete_me'))"
   ]
  },
  {
   "cell_type": "code",
   "execution_count": 11,
   "metadata": {},
   "outputs": [
    {
     "data": {
      "text/plain": [
       "{'acknowledged': True}"
      ]
     },
     "execution_count": 11,
     "metadata": {},
     "output_type": "execute_result"
    }
   ],
   "source": [
    "# delete index delete_me\n",
    "es_conn1.indices.delete('delete_me')"
   ]
  },
  {
   "cell_type": "code",
   "execution_count": 12,
   "metadata": {},
   "outputs": [
    {
     "name": "stdout",
     "output_type": "stream",
     "text": [
      "index exists:  False\n"
     ]
    }
   ],
   "source": [
    "# check to make sure it exists \n",
    "# it should\n",
    "print('index exists: ', es_conn1.indices.exists('delete_me'))"
   ]
  },
  {
   "cell_type": "code",
   "execution_count": 13,
   "metadata": {},
   "outputs": [
    {
     "data": {
      "text/plain": [
       "True"
      ]
     },
     "execution_count": 13,
     "metadata": {},
     "output_type": "execute_result"
    }
   ],
   "source": [
    "# flush indexes\n",
    "# this will flush sw_people\n",
    "es_conn1.indices.exists('sw_people')\n",
    "#  this flushes them all\n",
    "es_conn1.indices.exists('_all')"
   ]
  },
  {
   "cell_type": "code",
   "execution_count": 14,
   "metadata": {},
   "outputs": [
    {
     "data": {
      "text/plain": [
       "{'_shards': {'total': 2, 'successful': 1, 'failed': 0}}"
      ]
     },
     "execution_count": 14,
     "metadata": {},
     "output_type": "execute_result"
    }
   ],
   "source": [
    "# force merge\n",
    "# this will reduce the number of segments in the shards\n",
    "# this will lock the index until the force merge completes\n",
    "# SO BEWARE\n",
    "es_conn1.indices.forcemerge('sw_people')"
   ]
  },
  {
   "cell_type": "code",
   "execution_count": 15,
   "metadata": {},
   "outputs": [
    {
     "data": {
      "text/plain": [
       "{'_shards': {'total': 2, 'successful': 1, 'failed': 0}}"
      ]
     },
     "execution_count": 15,
     "metadata": {},
     "output_type": "execute_result"
    }
   ],
   "source": [
    "# refresh Explicitly refresh one or more index\n",
    "# making all operations performed since the last refresh available for search\n",
    "# not entirley sure what that gives us\n",
    "es_conn1.indices.refresh('sw_people')"
   ]
  },
  {
   "cell_type": "code",
   "execution_count": 19,
   "metadata": {},
   "outputs": [
    {
     "name": "stdout",
     "output_type": "stream",
     "text": [
      "shard store info {'indices': {'sw_people': {'shards': {'0': {'stores': [{'93tVwMVdRyKf8eqHq2bF4w': {'name': 'parrot', 'ephemeral_id': 'Hxq4TXdCRHG-Ot9xF3iuQQ', 'transport_address': '10.0.2.15:9300', 'attributes': {}}, 'allocation_id': 'd8Gk463YTP2r9ieEkBI6nw', 'allocation': 'primary'}]}}}}}\n"
     ]
    }
   ],
   "source": [
    "# returns store info for shards\n",
    "print('shard store info',es_conn1.indices.shard_stores('sw_people'))"
   ]
  },
  {
   "cell_type": "code",
   "execution_count": 18,
   "metadata": {},
   "outputs": [
    {
     "name": "stdout",
     "output_type": "stream",
     "text": [
      "index segement info:  {'_shards': {'total': 2, 'successful': 1, 'failed': 0}, 'indices': {'sw_people': {'shards': {'0': [{'routing': {'state': 'STARTED', 'primary': True, 'node': '93tVwMVdRyKf8eqHq2bF4w'}, 'num_committed_segments': 2, 'num_search_segments': 2, 'segments': {'_k': {'generation': 20, 'num_docs': 67, 'deleted_docs': 0, 'size_in_bytes': 37989, 'memory_in_bytes': 10147, 'committed': True, 'search': True, 'version': '8.2.0', 'compound': True, 'attributes': {'Lucene50StoredFieldsFormat.mode': 'BEST_SPEED'}}, '_l': {'generation': 21, 'num_docs': 20, 'deleted_docs': 0, 'size_in_bytes': 24413, 'memory_in_bytes': 9522, 'committed': True, 'search': True, 'version': '8.2.0', 'compound': False, 'attributes': {'Lucene50StoredFieldsFormat.mode': 'BEST_SPEED'}}}}]}}}}\n",
      "\n",
      "Python type:  <class 'dict'>\n"
     ]
    }
   ],
   "source": [
    "# low level info on segments\n",
    "print('index segement info: ', es_conn1.indices.segments('sw_people'))\n",
    "# this will show all the segments for all the indices\n",
    "#print('all segment info', es_conn1.indices.segments('_all'))\n",
    "print('\\nPython type: ', type(es_conn1.indices.segments('_all')))"
   ]
  },
  {
   "cell_type": "code",
   "execution_count": 31,
   "metadata": {},
   "outputs": [],
   "source": [
    "# shrink sounds useful but not going to do it\n",
    "# allows you to shrink an existing index into a new index with fewer primary shards\n",
    "# The number of primary shards in the target index must be a factor of the shards in the source index.\n",
    "# an index with 8 primary shards can be shrunk into 4, 2 or 1 primary shards\n",
    "# an index with 15 primary shards can be shrunk into 5, 3 or 1.\n",
    "# Before shrinking, a (primary or replica) copy of every shard in the index must be present on the same node.\n",
    "# and this isn't fully functional\n",
    "#es_conn1.indices.shrink(index='sw_people', target='sw_people_shrink')\n",
    "# 1- create target index\n",
    "# 2- make it read-only"
   ]
  },
  {
   "cell_type": "markdown",
   "metadata": {},
   "source": [
    "### need to get the shrink command straightened out"
   ]
  },
  {
   "cell_type": "code",
   "execution_count": 32,
   "metadata": {},
   "outputs": [
    {
     "name": "stdout",
     "output_type": "stream",
     "text": [
      "{'_shards': {'total': 2, 'successful': 1, 'failed': 0}, '_all': {'primaries': {'docs': {'count': 87, 'deleted': 0}, 'store': {'size_in_bytes': 62820}, 'indexing': {'index_total': 0, 'index_time_in_millis': 0, 'index_current': 0, 'index_failed': 0, 'delete_total': 0, 'delete_time_in_millis': 0, 'delete_current': 0, 'noop_update_total': 0, 'is_throttled': False, 'throttle_time_in_millis': 0}, 'get': {'total': 1, 'time_in_millis': 5, 'exists_total': 1, 'exists_time_in_millis': 5, 'missing_total': 0, 'missing_time_in_millis': 0, 'current': 0}, 'search': {'open_contexts': 0, 'query_total': 6, 'query_time_in_millis': 6, 'query_current': 0, 'fetch_total': 4, 'fetch_time_in_millis': 0, 'fetch_current': 0, 'scroll_total': 0, 'scroll_time_in_millis': 0, 'scroll_current': 0, 'suggest_total': 0, 'suggest_time_in_millis': 0, 'suggest_current': 0}, 'merges': {'current': 0, 'current_docs': 0, 'current_size_in_bytes': 0, 'total': 0, 'total_time_in_millis': 0, 'total_docs': 0, 'total_size_in_bytes': 0, 'total_stopped_time_in_millis': 0, 'total_throttled_time_in_millis': 0, 'total_auto_throttle_in_bytes': 20971520}, 'refresh': {'total': 5, 'total_time_in_millis': 1, 'external_total': 4, 'external_total_time_in_millis': 1, 'listeners': 0}, 'flush': {'total': 1, 'periodic': 0, 'total_time_in_millis': 0}, 'warmer': {'current': 0, 'total': 2, 'total_time_in_millis': 0}, 'query_cache': {'memory_size_in_bytes': 0, 'total_count': 0, 'hit_count': 0, 'miss_count': 0, 'cache_size': 0, 'cache_count': 0, 'evictions': 0}, 'fielddata': {'memory_size_in_bytes': 0, 'evictions': 0}, 'completion': {'size_in_bytes': 0}, 'segments': {'count': 2, 'memory_in_bytes': 19669, 'terms_memory_in_bytes': 14971, 'stored_fields_memory_in_bytes': 624, 'term_vectors_memory_in_bytes': 0, 'norms_memory_in_bytes': 1792, 'points_memory_in_bytes': 10, 'doc_values_memory_in_bytes': 2272, 'index_writer_memory_in_bytes': 0, 'version_map_memory_in_bytes': 0, 'fixed_bit_set_memory_in_bytes': 0, 'max_unsafe_auto_id_timestamp': -1, 'file_sizes': {}}, 'translog': {'operations': 0, 'size_in_bytes': 55, 'uncommitted_operations': 0, 'uncommitted_size_in_bytes': 55, 'earliest_last_modified_age': 0}, 'request_cache': {'memory_size_in_bytes': 691, 'evictions': 0, 'hit_count': 5, 'miss_count': 1}, 'recovery': {'current_as_source': 0, 'current_as_target': 0, 'throttle_time_in_millis': 0}}, 'total': {'docs': {'count': 87, 'deleted': 0}, 'store': {'size_in_bytes': 62820}, 'indexing': {'index_total': 0, 'index_time_in_millis': 0, 'index_current': 0, 'index_failed': 0, 'delete_total': 0, 'delete_time_in_millis': 0, 'delete_current': 0, 'noop_update_total': 0, 'is_throttled': False, 'throttle_time_in_millis': 0}, 'get': {'total': 1, 'time_in_millis': 5, 'exists_total': 1, 'exists_time_in_millis': 5, 'missing_total': 0, 'missing_time_in_millis': 0, 'current': 0}, 'search': {'open_contexts': 0, 'query_total': 6, 'query_time_in_millis': 6, 'query_current': 0, 'fetch_total': 4, 'fetch_time_in_millis': 0, 'fetch_current': 0, 'scroll_total': 0, 'scroll_time_in_millis': 0, 'scroll_current': 0, 'suggest_total': 0, 'suggest_time_in_millis': 0, 'suggest_current': 0}, 'merges': {'current': 0, 'current_docs': 0, 'current_size_in_bytes': 0, 'total': 0, 'total_time_in_millis': 0, 'total_docs': 0, 'total_size_in_bytes': 0, 'total_stopped_time_in_millis': 0, 'total_throttled_time_in_millis': 0, 'total_auto_throttle_in_bytes': 20971520}, 'refresh': {'total': 5, 'total_time_in_millis': 1, 'external_total': 4, 'external_total_time_in_millis': 1, 'listeners': 0}, 'flush': {'total': 1, 'periodic': 0, 'total_time_in_millis': 0}, 'warmer': {'current': 0, 'total': 2, 'total_time_in_millis': 0}, 'query_cache': {'memory_size_in_bytes': 0, 'total_count': 0, 'hit_count': 0, 'miss_count': 0, 'cache_size': 0, 'cache_count': 0, 'evictions': 0}, 'fielddata': {'memory_size_in_bytes': 0, 'evictions': 0}, 'completion': {'size_in_bytes': 0}, 'segments': {'count': 2, 'memory_in_bytes': 19669, 'terms_memory_in_bytes': 14971, 'stored_fields_memory_in_bytes': 624, 'term_vectors_memory_in_bytes': 0, 'norms_memory_in_bytes': 1792, 'points_memory_in_bytes': 10, 'doc_values_memory_in_bytes': 2272, 'index_writer_memory_in_bytes': 0, 'version_map_memory_in_bytes': 0, 'fixed_bit_set_memory_in_bytes': 0, 'max_unsafe_auto_id_timestamp': -1, 'file_sizes': {}}, 'translog': {'operations': 0, 'size_in_bytes': 55, 'uncommitted_operations': 0, 'uncommitted_size_in_bytes': 55, 'earliest_last_modified_age': 0}, 'request_cache': {'memory_size_in_bytes': 691, 'evictions': 0, 'hit_count': 5, 'miss_count': 1}, 'recovery': {'current_as_source': 0, 'current_as_target': 0, 'throttle_time_in_millis': 0}}}, 'indices': {'sw_people': {'uuid': '0FSqKsdMQJ-m9sjP6nPiCQ', 'primaries': {'docs': {'count': 87, 'deleted': 0}, 'store': {'size_in_bytes': 62820}, 'indexing': {'index_total': 0, 'index_time_in_millis': 0, 'index_current': 0, 'index_failed': 0, 'delete_total': 0, 'delete_time_in_millis': 0, 'delete_current': 0, 'noop_update_total': 0, 'is_throttled': False, 'throttle_time_in_millis': 0}, 'get': {'total': 1, 'time_in_millis': 5, 'exists_total': 1, 'exists_time_in_millis': 5, 'missing_total': 0, 'missing_time_in_millis': 0, 'current': 0}, 'search': {'open_contexts': 0, 'query_total': 6, 'query_time_in_millis': 6, 'query_current': 0, 'fetch_total': 4, 'fetch_time_in_millis': 0, 'fetch_current': 0, 'scroll_total': 0, 'scroll_time_in_millis': 0, 'scroll_current': 0, 'suggest_total': 0, 'suggest_time_in_millis': 0, 'suggest_current': 0}, 'merges': {'current': 0, 'current_docs': 0, 'current_size_in_bytes': 0, 'total': 0, 'total_time_in_millis': 0, 'total_docs': 0, 'total_size_in_bytes': 0, 'total_stopped_time_in_millis': 0, 'total_throttled_time_in_millis': 0, 'total_auto_throttle_in_bytes': 20971520}, 'refresh': {'total': 5, 'total_time_in_millis': 1, 'external_total': 4, 'external_total_time_in_millis': 1, 'listeners': 0}, 'flush': {'total': 1, 'periodic': 0, 'total_time_in_millis': 0}, 'warmer': {'current': 0, 'total': 2, 'total_time_in_millis': 0}, 'query_cache': {'memory_size_in_bytes': 0, 'total_count': 0, 'hit_count': 0, 'miss_count': 0, 'cache_size': 0, 'cache_count': 0, 'evictions': 0}, 'fielddata': {'memory_size_in_bytes': 0, 'evictions': 0}, 'completion': {'size_in_bytes': 0}, 'segments': {'count': 2, 'memory_in_bytes': 19669, 'terms_memory_in_bytes': 14971, 'stored_fields_memory_in_bytes': 624, 'term_vectors_memory_in_bytes': 0, 'norms_memory_in_bytes': 1792, 'points_memory_in_bytes': 10, 'doc_values_memory_in_bytes': 2272, 'index_writer_memory_in_bytes': 0, 'version_map_memory_in_bytes': 0, 'fixed_bit_set_memory_in_bytes': 0, 'max_unsafe_auto_id_timestamp': -1, 'file_sizes': {}}, 'translog': {'operations': 0, 'size_in_bytes': 55, 'uncommitted_operations': 0, 'uncommitted_size_in_bytes': 55, 'earliest_last_modified_age': 0}, 'request_cache': {'memory_size_in_bytes': 691, 'evictions': 0, 'hit_count': 5, 'miss_count': 1}, 'recovery': {'current_as_source': 0, 'current_as_target': 0, 'throttle_time_in_millis': 0}}, 'total': {'docs': {'count': 87, 'deleted': 0}, 'store': {'size_in_bytes': 62820}, 'indexing': {'index_total': 0, 'index_time_in_millis': 0, 'index_current': 0, 'index_failed': 0, 'delete_total': 0, 'delete_time_in_millis': 0, 'delete_current': 0, 'noop_update_total': 0, 'is_throttled': False, 'throttle_time_in_millis': 0}, 'get': {'total': 1, 'time_in_millis': 5, 'exists_total': 1, 'exists_time_in_millis': 5, 'missing_total': 0, 'missing_time_in_millis': 0, 'current': 0}, 'search': {'open_contexts': 0, 'query_total': 6, 'query_time_in_millis': 6, 'query_current': 0, 'fetch_total': 4, 'fetch_time_in_millis': 0, 'fetch_current': 0, 'scroll_total': 0, 'scroll_time_in_millis': 0, 'scroll_current': 0, 'suggest_total': 0, 'suggest_time_in_millis': 0, 'suggest_current': 0}, 'merges': {'current': 0, 'current_docs': 0, 'current_size_in_bytes': 0, 'total': 0, 'total_time_in_millis': 0, 'total_docs': 0, 'total_size_in_bytes': 0, 'total_stopped_time_in_millis': 0, 'total_throttled_time_in_millis': 0, 'total_auto_throttle_in_bytes': 20971520}, 'refresh': {'total': 5, 'total_time_in_millis': 1, 'external_total': 4, 'external_total_time_in_millis': 1, 'listeners': 0}, 'flush': {'total': 1, 'periodic': 0, 'total_time_in_millis': 0}, 'warmer': {'current': 0, 'total': 2, 'total_time_in_millis': 0}, 'query_cache': {'memory_size_in_bytes': 0, 'total_count': 0, 'hit_count': 0, 'miss_count': 0, 'cache_size': 0, 'cache_count': 0, 'evictions': 0}, 'fielddata': {'memory_size_in_bytes': 0, 'evictions': 0}, 'completion': {'size_in_bytes': 0}, 'segments': {'count': 2, 'memory_in_bytes': 19669, 'terms_memory_in_bytes': 14971, 'stored_fields_memory_in_bytes': 624, 'term_vectors_memory_in_bytes': 0, 'norms_memory_in_bytes': 1792, 'points_memory_in_bytes': 10, 'doc_values_memory_in_bytes': 2272, 'index_writer_memory_in_bytes': 0, 'version_map_memory_in_bytes': 0, 'fixed_bit_set_memory_in_bytes': 0, 'max_unsafe_auto_id_timestamp': -1, 'file_sizes': {}}, 'translog': {'operations': 0, 'size_in_bytes': 55, 'uncommitted_operations': 0, 'uncommitted_size_in_bytes': 55, 'earliest_last_modified_age': 0}, 'request_cache': {'memory_size_in_bytes': 691, 'evictions': 0, 'hit_count': 5, 'miss_count': 1}, 'recovery': {'current_as_source': 0, 'current_as_target': 0, 'throttle_time_in_millis': 0}}}}}\n",
      "\n",
      "Python type:  <class 'dict'>\n"
     ]
    }
   ],
   "source": [
    "# stats shows ops on an index\n",
    "# a lot of info\n",
    "index_stats = es_conn1.indices.stats('sw_people')\n",
    "print(index_stats)\n",
    "print('\\nPython type: ', type(index_stats))"
   ]
  },
  {
   "cell_type": "code",
   "execution_count": null,
   "metadata": {},
   "outputs": [],
   "source": []
  },
  {
   "cell_type": "code",
   "execution_count": null,
   "metadata": {},
   "outputs": [],
   "source": []
  }
 ],
 "metadata": {
  "kernelspec": {
   "display_name": "Python 3",
   "language": "python",
   "name": "python3"
  },
  "language_info": {
   "codemirror_mode": {
    "name": "ipython",
    "version": 3
   },
   "file_extension": ".py",
   "mimetype": "text/x-python",
   "name": "python",
   "nbconvert_exporter": "python",
   "pygments_lexer": "ipython3",
   "version": "3.7.4"
  }
 },
 "nbformat": 4,
 "nbformat_minor": 2
}
